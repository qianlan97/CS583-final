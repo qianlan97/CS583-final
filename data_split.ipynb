{
 "cells": [
  {
   "cell_type": "code",
   "execution_count": 1,
   "id": "910be5a4",
   "metadata": {},
   "outputs": [
    {
     "name": "stdout",
     "output_type": "stream",
     "text": [
      "Data splited into new folder.\n"
     ]
    }
   ],
   "source": [
    "import os\n",
    "import shutil\n",
    "\n",
    "\n",
    "def copy_images(start_index, end_index, animal_type, source_dir, destination_dir):\n",
    "    for i in range(start_index, end_index):\n",
    "        file_name = f\"{animal_type}.{i}.jpg\"\n",
    "        source_path = os.path.join(source_dir, file_name)\n",
    "        destination_path = os.path.join(destination_dir, animal_type, file_name)\n",
    "        shutil.copy(source_path, destination_path)\n",
    "\n",
    "source_dir = './original_data/train'\n",
    "train_dir = './processed_data/train'\n",
    "test_dir = './processed_data/test'\n",
    "\n",
    "# Create necessary directories\n",
    "os.makedirs(os.path.join(train_dir, 'cat'), exist_ok=True)\n",
    "os.makedirs(os.path.join(train_dir, 'dog'), exist_ok=True)\n",
    "os.makedirs(os.path.join(test_dir, 'cat'), exist_ok=True)\n",
    "os.makedirs(os.path.join(test_dir, 'dog'), exist_ok=True)\n",
    "\n",
    "# Copy cat and dog images\n",
    "copy_images(0, 100, 'cat', source_dir, train_dir)\n",
    "copy_images(100, 125, 'cat', source_dir, test_dir)\n",
    "copy_images(0, 100, 'dog', source_dir, train_dir)\n",
    "copy_images(100, 125, 'dog', source_dir, test_dir)\n",
    "\n",
    "print(\"Data splited into new folder.\")"
   ]
  }
 ],
 "metadata": {
  "kernelspec": {
   "display_name": "Python 3 (ipykernel)",
   "language": "python",
   "name": "python3"
  },
  "language_info": {
   "codemirror_mode": {
    "name": "ipython",
    "version": 3
   },
   "file_extension": ".py",
   "mimetype": "text/x-python",
   "name": "python",
   "nbconvert_exporter": "python",
   "pygments_lexer": "ipython3",
   "version": "3.7.11"
  }
 },
 "nbformat": 4,
 "nbformat_minor": 5
}
